{
 "cells": [
  {
   "cell_type": "markdown",
   "metadata": {},
   "source": [
    "# drlsim Quick Start\n",
    "\n",
    "With this notebook, you can get started with drlsim quickly.\n",
    "\n",
    "You will set up and run drlsim, observe its training curves over time, and analyze some results.\n",
    "\n",
    "Please note that this is just meant to get you started - you will likely have to adjust and extend this code to achieve what you want.\n",
    "\n",
    "\n",
    "## Set up and Test drlsim"
   ]
  },
  {
   "cell_type": "code",
   "execution_count": null,
   "metadata": {},
   "outputs": [],
   "source": [
    "# clone and install drlsim --> skip this if you already installed drlsim\n",
    "!git clone https://github.com/brajeshumrao84/drlsim.git\n",
    "\n",
    "%cd drlsim\n",
    "!pip install -r requirements.txt"
   ]
  },
  {
   "cell_type": "code",
   "execution_count": null,
   "metadata": {
    "collapsed": false,
    "jupyter": {
     "outputs_hidden": false
    },
    "pycharm": {
     "name": "#%%\n"
    }
   },
   "outputs": [],
   "source": [
    "# ensure drlsim is installed properly\n",
    "# ignore TensorFlow warnings --> should show available CLI options at the end\n",
    "!drlsim -h"
   ]
  },
  {
   "cell_type": "markdown",
   "metadata": {},
   "source": [
    "## Run drlsim\n",
    "\n",
    "Run drlsim with a small example, using the small example configurations in the `res` folder: `res/config/agent/sample_agent.yaml res/networks/sample_network.graphml res/service_functions/abc.yaml res/config/simulator/sample_config.yaml`\n",
    "\n",
    "Just train for 10 training episodes, each with 200 steps, i.e., resulting in 2000 training steps.\n",
    "\n",
    "`--append-test` runs one test iteration after finishing training, which collects the results for evalution (metrics are not written during training to save time and space). \n",
    "The results will be saved in the `results` folder (created automatically)."
   ]
  },
  {
   "cell_type": "code",
   "execution_count": null,
   "metadata": {},
   "outputs": [],
   "source": [
    "!drlsim res/config/agent/sample_agent.yaml res/networks/sample_network.graphml res/service_functions/abc.yaml res/config/simulator/sample_config.yaml 10 --append-test"
   ]
  },
  {
   "cell_type": "markdown",
   "metadata": {},
   "source": [
    "## Analyze Results\n",
    "\n",
    "To further analyzte the results, you can plot them.\n",
    "\n",
    "Here are some simple options, but you can do a lot more - depending on what you want to evaluate."
   ]
  },
  {
   "cell_type": "code",
   "execution_count": null,
   "metadata": {},
   "outputs": [],
   "source": [
    "import os\n",
    "import pandas as pd\n",
    "\n",
    "# YOU NEED TO CHANGE THIS: copy the result path from above - without the trailing \"result.yaml\"\n",
    "test_result_dir = \"results/sample_agent/sample_network/abc/sample_config/2021-12-01_14-11-24_seed2871/test-2021-12-01_14-11-24_seed2871\"\n",
    "test_result_dir = # YOUR TEST RESULT DIR HERE\n",
    "\n",
    "# read test results into pandas data frame\n",
    "test_results = os.path.join(test_result_dir, \"metrics.csv\")\n",
    "df = pd.read_csv(test_results)\n",
    "\n",
    "df.head()"
   ]
  }
 ],
 "metadata": {
  "kernelspec": {
   "display_name": "Python 3 (ipykernel)",
   "language": "python",
   "name": "python3"
  },
  "language_info": {
   "codemirror_mode": {
    "name": "ipython",
    "version": 3
   },
   "file_extension": ".py",
   "mimetype": "text/x-python",
   "name": "python",
   "nbconvert_exporter": "python",
   "pygments_lexer": "ipython3",
   "version": "3.7.5"
  }
 },
 "nbformat": 4,
 "nbformat_minor": 4
}
